{
 "cells": [
  {
   "cell_type": "markdown",
   "metadata": {
    "application/vnd.databricks.v1+cell": {
     "cellMetadata": {},
     "inputWidgets": {},
     "nuid": "d280fc23-4b63-4463-83eb-d2ceb836231c",
     "showTitle": false,
     "tableResultSettingsMap": {},
     "title": ""
    }
   },
   "source": [
    "file handling"
   ]
  },
  {
   "cell_type": "code",
   "execution_count": 0,
   "metadata": {
    "application/vnd.databricks.v1+cell": {
     "cellMetadata": {
      "byteLimit": 2048000,
      "rowLimit": 10000
     },
     "inputWidgets": {},
     "nuid": "b9feccba-521f-4cd1-80cc-242f998bc5c8",
     "showTitle": false,
     "tableResultSettingsMap": {},
     "title": ""
    }
   },
   "outputs": [
    {
     "output_type": "stream",
     "name": "stdout",
     "output_type": "stream",
     "text": [
      "I am learning data engineering from evamp\n<class 'str'>\n"
     ]
    }
   ],
   "source": [
    "f= open(\"demofile.txt\", \"r\")\n",
    "data =f.read()\n",
    "print(data)\n",
    "\n",
    "print(type(data))\n",
    "\n",
    "f.close()"
   ]
  },
  {
   "cell_type": "code",
   "execution_count": 0,
   "metadata": {
    "application/vnd.databricks.v1+cell": {
     "cellMetadata": {
      "byteLimit": 2048000,
      "rowLimit": 10000
     },
     "inputWidgets": {},
     "nuid": "9e7fba32-d9ed-4dd6-82b4-ecd30a1723f5",
     "showTitle": false,
     "tableResultSettingsMap": {},
     "title": ""
    }
   },
   "outputs": [
    {
     "output_type": "stream",
     "name": "stdout",
     "output_type": "stream",
     "text": [
      "I am \n"
     ]
    }
   ],
   "source": [
    "f= open(\"demofile.txt\", \"r\")\n",
    "\n",
    "data=f.read(5)\n",
    "print(data)\n",
    "\n",
    "f.close()"
   ]
  },
  {
   "cell_type": "code",
   "execution_count": 0,
   "metadata": {
    "application/vnd.databricks.v1+cell": {
     "cellMetadata": {
      "byteLimit": 2048000,
      "rowLimit": 10000
     },
     "inputWidgets": {},
     "nuid": "cf81f83b-17de-419d-944f-e73a62a4978f",
     "showTitle": false,
     "tableResultSettingsMap": {},
     "title": ""
    }
   },
   "outputs": [
    {
     "output_type": "stream",
     "name": "stdout",
     "output_type": "stream",
     "text": [
      "I am learning data engineering from evamp\n\n"
     ]
    }
   ],
   "source": [
    "f=open(\"demofile.txt\", \"r\")\n",
    "\n",
    "line2=f.readline()\n",
    "print(line2)\n",
    "\n",
    "f.close()"
   ]
  },
  {
   "cell_type": "code",
   "execution_count": 0,
   "metadata": {
    "application/vnd.databricks.v1+cell": {
     "cellMetadata": {
      "byteLimit": 2048000,
      "rowLimit": 10000
     },
     "inputWidgets": {},
     "nuid": "14bdd0a7-fd78-4e29-a5d3-11d3a2c216b5",
     "showTitle": false,
     "tableResultSettingsMap": {},
     "title": ""
    }
   },
   "outputs": [
    {
     "output_type": "stream",
     "name": "stdout",
     "output_type": "stream",
     "text": [
      "I am learning data engineering from evamp\n\ni am currently at untern position \n\n"
     ]
    }
   ],
   "source": [
    "f = open(\"demofile.txt\", \"r\")   \n",
    "line1=f.readline()\n",
    "print(line1)\n",
    "\n",
    "line2=f.readline()\n",
    "print(line2)\n",
    "\n"
   ]
  },
  {
   "cell_type": "code",
   "execution_count": 0,
   "metadata": {
    "application/vnd.databricks.v1+cell": {
     "cellMetadata": {
      "byteLimit": 2048000,
      "rowLimit": 10000
     },
     "inputWidgets": {},
     "nuid": "e87aa16c-d7f4-45d8-81f6-2eaf9bfa702f",
     "showTitle": false,
     "tableResultSettingsMap": {},
     "title": ""
    }
   },
   "outputs": [
    {
     "output_type": "stream",
     "name": "stdout",
     "output_type": "stream",
     "text": [
      "python is important for interviews\npython is important for interviews so practice it daily\n"
     ]
    }
   ],
   "source": [
    "f=open(\"demofile.txt\", 'w')\n",
    "write= f.write(\"python is important for interviews\")\n",
    "f=open('demofile.txt')\n",
    "data= f.read()\n",
    "print(data)\n",
    "#write and append\n",
    "f=open(\"demofile.txt\",\"a\")\n",
    "write=f.write(\" so practice it daily\")\n",
    "f=open(\"demofile.txt\")\n",
    "data=f.read()\n",
    "print(data)\n",
    "f.close()l"
   ]
  },
  {
   "cell_type": "markdown",
   "metadata": {
    "application/vnd.databricks.v1+cell": {
     "cellMetadata": {},
     "inputWidgets": {},
     "nuid": "cf237cb1-9d3e-4f72-bece-9bdf84a324c4",
     "showTitle": false,
     "tableResultSettingsMap": {},
     "title": ""
    }
   },
   "source": [
    "JSON"
   ]
  },
  {
   "cell_type": "code",
   "execution_count": 0,
   "metadata": {
    "application/vnd.databricks.v1+cell": {
     "cellMetadata": {
      "byteLimit": 2048000,
      "rowLimit": 10000
     },
     "inputWidgets": {},
     "nuid": "ce5519e5-b59e-4168-b07f-8a672b47774d",
     "showTitle": false,
     "tableResultSettingsMap": {},
     "title": ""
    }
   },
   "outputs": [
    {
     "output_type": "stream",
     "name": "stdout",
     "output_type": "stream",
     "text": [
      "{'id': 1, 'name': 'john', 'age': 21, 'full time': True}\n"
     ]
    }
   ],
   "source": [
    "import json\n",
    "json_string = '''\n",
    "    {\n",
    "         \"student\":[\n",
    "            {\n",
    "              \"id\":1,\n",
    "              \"name\":\"john\",  \n",
    "              \"age\":21,\n",
    "              \"full time\":true\n",
    "            },\n",
    "            {\n",
    "            \"id\":2,\n",
    "            \"name\":\"mary\", \n",
    "            \"age\":32,\n",
    "            \"full time\":false\n",
    "            }\n",
    "        ]\n",
    "     }\n",
    "'''\n",
    "data=json.loads(json_string)\n",
    "print(data['student'][0])"
   ]
  },
  {
   "cell_type": "code",
   "execution_count": 0,
   "metadata": {
    "application/vnd.databricks.v1+cell": {
     "cellMetadata": {
      "byteLimit": 2048000,
      "rowLimit": 10000
     },
     "inputWidgets": {},
     "nuid": "d58d0f28-748d-49b6-a093-96e9f7fb8ef5",
     "showTitle": false,
     "tableResultSettingsMap": {},
     "title": ""
    }
   },
   "outputs": [
    {
     "output_type": "stream",
     "name": "stdout",
     "output_type": "stream",
     "text": [
      "{'id': 2, 'name': 'mary', 'age': 32, 'full time': False}\n"
     ]
    }
   ],
   "source": [
    "import json\n",
    "json_string = '''\n",
    "    {\n",
    "         \"student\":[\n",
    "            {\n",
    "              \"id\":1,\n",
    "              \"name\":\"john\",  \n",
    "              \"age\":21,\n",
    "              \"full time\":true\n",
    "            },\n",
    "            {\n",
    "            \"id\":2,\n",
    "            \"name\":\"mary\", \n",
    "            \"age\":32,\n",
    "            \"full time\":false\n",
    "            }\n",
    "        ]\n",
    "     }\n",
    "'''\n",
    "data=json.loads(json_string)\n",
    "print(data['student'][1])"
   ]
  },
  {
   "cell_type": "code",
   "execution_count": 0,
   "metadata": {
    "application/vnd.databricks.v1+cell": {
     "cellMetadata": {
      "byteLimit": 2048000,
      "rowLimit": 10000
     },
     "inputWidgets": {},
     "nuid": "4fd1dfcb-0b16-4ecc-b5b5-300b8c4fdc88",
     "showTitle": false,
     "tableResultSettingsMap": {},
     "title": ""
    }
   },
   "outputs": [
    {
     "output_type": "stream",
     "name": "stdout",
     "output_type": "stream",
     "text": [
      "{\n  \"student\": [\n    {\n      \"age\": 21,\n      \"full time\": true,\n      \"id\": 1,\n      \"name\": \"john\"\n    },\n    {\n      \"age\": 32,\n      \"full time\": false,\n      \"id\": 2,\n      \"name\": \"mary\"\n    }\n  ],\n  \"test\": true\n}\n"
     ]
    }
   ],
   "source": [
    "import json\n",
    "json_string = '''\n",
    "    {\n",
    "         \"student\":[\n",
    "            {\n",
    "              \"id\":1,\n",
    "              \"name\":\"john\",  \n",
    "              \"age\":21,\n",
    "              \"full time\":true\n",
    "            },\n",
    "            {\n",
    "            \"id\":2,\n",
    "            \"name\":\"mary\", \n",
    "            \"age\":32,\n",
    "            \"full time\":false\n",
    "            }\n",
    "        ]\n",
    "     }\n",
    "'''\n",
    "data=json.loads(json_string)\n",
    "data['test'] = True\n",
    "\n",
    "new_json = json.dumps(data, indent=2, sort_keys=True)\n",
    "print(new_json)"
   ]
  },
  {
   "cell_type": "code",
   "execution_count": 0,
   "metadata": {
    "application/vnd.databricks.v1+cell": {
     "cellMetadata": {
      "byteLimit": 2048000,
      "rowLimit": 10000
     },
     "inputWidgets": {},
     "nuid": "cdf6ad71-ddef-4705-ba8f-be111a761caf",
     "showTitle": false,
     "tableResultSettingsMap": {},
     "title": ""
    }
   },
   "outputs": [
    {
     "output_type": "stream",
     "name": "stdout",
     "output_type": "stream",
     "text": [
      "dict_items([('student', [{'id': 1, 'name': 'john', 'age': 21, 'full time': True}, {'id': 2, 'name': 'mary', 'age': 32, 'full time': False}])])\n"
     ]
    }
   ],
   "source": [
    "import json\n",
    "with open(\"data.json\", 'r') as f:\n",
    "    data=json.load(f)\n",
    "\n",
    "print(data.items())"
   ]
  },
  {
   "cell_type": "code",
   "execution_count": 0,
   "metadata": {
    "application/vnd.databricks.v1+cell": {
     "cellMetadata": {
      "byteLimit": 2048000,
      "rowLimit": 10000
     },
     "inputWidgets": {},
     "nuid": "24fbe3ae-6cf4-48e3-aa38-e73f23deae59",
     "showTitle": false,
     "tableResultSettingsMap": {},
     "title": ""
    }
   },
   "outputs": [],
   "source": [
    "import json\n",
    "with open(\"data2.json\", \"w\") as f:\n",
    "    json.dump(data, f)\n"
   ]
  },
  {
   "cell_type": "markdown",
   "metadata": {
    "application/vnd.databricks.v1+cell": {
     "cellMetadata": {},
     "inputWidgets": {},
     "nuid": "07d98359-1761-4ed6-89f7-8926509f7e47",
     "showTitle": false,
     "tableResultSettingsMap": {},
     "title": ""
    }
   },
   "source": [
    "CSV "
   ]
  },
  {
   "cell_type": "code",
   "execution_count": 0,
   "metadata": {
    "application/vnd.databricks.v1+cell": {
     "cellMetadata": {
      "byteLimit": 2048000,
      "rowLimit": 10000
     },
     "inputWidgets": {},
     "nuid": "c801f0cb-44eb-4805-be6f-0db0b40929c4",
     "showTitle": false,
     "tableResultSettingsMap": {},
     "title": ""
    }
   },
   "outputs": [
    {
     "output_type": "stream",
     "name": "stdout",
     "output_type": "stream",
     "text": [
      "[]\n['Price', 'Name', 'Item Level', 'Owned?', 'Available']\n['6500', 'Elixir of the Naga', '85', '', '62']\n['15000', 'Elixir of Deep Earth', '85', '', '192']\n['19000', 'Prismatic Elixir', '85', '', '256']\n"
     ]
    }
   ],
   "source": [
    "import csv\n",
    "with open(\"names.csv\", 'r') as csv_file:    \n",
    "    csv_reader = csv.reader(csv_file)\n",
    "\n",
    "    for line in csv_reader:\n",
    "        print(line)\n",
    "\n"
   ]
  },
  {
   "cell_type": "markdown",
   "metadata": {
    "application/vnd.databricks.v1+cell": {
     "cellMetadata": {},
     "inputWidgets": {},
     "nuid": "7b4e6be7-aa17-4384-ad2a-6cb21e7f5d93",
     "showTitle": false,
     "tableResultSettingsMap": {},
     "title": ""
    }
   },
   "source": [
    "AUtomation throughn OS"
   ]
  },
  {
   "cell_type": "code",
   "execution_count": 0,
   "metadata": {
    "application/vnd.databricks.v1+cell": {
     "cellMetadata": {
      "byteLimit": 2048000,
      "rowLimit": 10000
     },
     "inputWidgets": {},
     "nuid": "1cb49bbf-220d-47fd-a4d3-057f2ad53804",
     "showTitle": false,
     "tableResultSettingsMap": {},
     "title": ""
    }
   },
   "outputs": [
    {
     "output_type": "stream",
     "name": "stdout",
     "output_type": "stream",
     "text": [
      "['Day 4.ipynb', 'Day3.ipynb', 'Workspace Usage Dashboard.lvdash.json', 'Internship E&S Day1.ipynb', 'Sample Dashboards', 'Day 5.ipynb', 'new_names.csv', 'existing_names.csv', 'names.csv:', 'data.json', 'data2.json', 'names.csv', 'Day2.ipynb', 'demofile.txt']\nipynb\nipynb\njson\nipynb\n\nipynb\ncsv\ncsv\ncsv:\njson\njson\ncsv\nipynb\ntxt\nFiles have been organized successfully.\n"
     ]
    }
   ],
   "source": [
    "import os\n",
    "import shutil\n",
    "\n",
    "# will Ask the user for the directory path to organize\n",
    "path = \"/Workspace/Users/ibtesam.aq02@gmail.com\" #choosen path\n",
    "\n",
    "# List all files in the given directory\n",
    "files = os.listdir(path)\n",
    "print(files)  # Optional: to verify files are listed\n",
    "\n",
    "# Loop through each file in the directory\n",
    "for file in files:\n",
    "    # Split the filename and extension\n",
    "    filename, extension = os.path.splitext(file)\n",
    "    # Remove the dot from the extension\n",
    "    extension = extension[1:]\n",
    "    print(extension)  # Optional: to verify extension extraction\n",
    "\n",
    "    # Construct the path for the folder named after the extension\n",
    "    folder_path = os.path.join(path, extension)\n",
    "\n",
    "    # Check if the folder exists; if not, create it\n",
    "    if not os.path.exists(folder_path):\n",
    "        os.makedirs(folder_path)\n",
    "\n",
    "    # Construct full file paths for source and destination\n",
    "    source = os.path.join(path, file)\n",
    "    destination = os.path.join(folder_path, file)\n",
    "\n",
    "    # Move the file to the appropriate folder\n",
    "    shutil.move(source, destination)\n",
    "\n",
    "print(\"Files have been organized successfully.\")"
   ]
  }
 ],
 "metadata": {
  "application/vnd.databricks.v1+notebook": {
   "computePreferences": null,
   "dashboards": [],
   "environmentMetadata": {
    "base_environment": "",
    "environment_version": "2"
   },
   "inputWidgetPreferences": null,
   "language": "python",
   "notebookMetadata": {
    "pythonIndentUnit": 4
   },
   "notebookName": "Day 5",
   "widgets": {}
  },
  "language_info": {
   "name": "python"
  }
 },
 "nbformat": 4,
 "nbformat_minor": 0
}